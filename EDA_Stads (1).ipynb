{
 "cells": [
  {
   "cell_type": "markdown",
   "id": "b798be50",
   "metadata": {},
   "source": [
    "# Importing of Libraries"
   ]
  },
  {
   "cell_type": "code",
   "execution_count": 294,
   "id": "b6c30da2",
   "metadata": {},
   "outputs": [],
   "source": [
    "import pandas as pd\n",
    "import numpy as np\n",
    "import matplotlib.pyplot as plt"
   ]
  },
  {
   "cell_type": "code",
   "execution_count": 295,
   "id": "1ab0c56d",
   "metadata": {},
   "outputs": [],
   "source": [
    "df = pd.read_csv(\"Netflix.csv\")"
   ]
  },
  {
   "cell_type": "code",
   "execution_count": 296,
   "id": "5eb31970",
   "metadata": {},
   "outputs": [
    {
     "data": {
      "text/html": [
       "<div>\n",
       "<style scoped>\n",
       "    .dataframe tbody tr th:only-of-type {\n",
       "        vertical-align: middle;\n",
       "    }\n",
       "\n",
       "    .dataframe tbody tr th {\n",
       "        vertical-align: top;\n",
       "    }\n",
       "\n",
       "    .dataframe thead th {\n",
       "        text-align: right;\n",
       "    }\n",
       "</style>\n",
       "<table border=\"1\" class=\"dataframe\">\n",
       "  <thead>\n",
       "    <tr style=\"text-align: right;\">\n",
       "      <th></th>\n",
       "      <th>Start Time</th>\n",
       "      <th>Duration</th>\n",
       "      <th>Attributes</th>\n",
       "      <th>Title</th>\n",
       "      <th>Supplemental Video Type</th>\n",
       "      <th>Device Type</th>\n",
       "      <th>Bookmark</th>\n",
       "      <th>Latest Bookmark</th>\n",
       "      <th>Country</th>\n",
       "    </tr>\n",
       "  </thead>\n",
       "  <tbody>\n",
       "    <tr>\n",
       "      <th>0</th>\n",
       "      <td>29-03-2023 12:00</td>\n",
       "      <td>00:24:06</td>\n",
       "      <td>NaN</td>\n",
       "      <td>The Night Agent: Staffel 1: Wahlwiederholung (...</td>\n",
       "      <td>NaN</td>\n",
       "      <td>Apple iPad Pro 12.9in 4th Gen (Wi-Fi) iPad</td>\n",
       "      <td>00:25:35</td>\n",
       "      <td>00:25:35</td>\n",
       "      <td>DE (Germany)</td>\n",
       "    </tr>\n",
       "    <tr>\n",
       "      <th>1</th>\n",
       "      <td>29-03-2023 11:45</td>\n",
       "      <td>00:14:44</td>\n",
       "      <td>NaN</td>\n",
       "      <td>The Night Agent: Staffel 1: Der Anruf (Folge 1)</td>\n",
       "      <td>NaN</td>\n",
       "      <td>Apple iPad Pro 12.9in 4th Gen (Wi-Fi) iPad</td>\n",
       "      <td>00:51:50</td>\n",
       "      <td>00:51:50</td>\n",
       "      <td>DE (Germany)</td>\n",
       "    </tr>\n",
       "    <tr>\n",
       "      <th>2</th>\n",
       "      <td>29-03-2023 10:40</td>\n",
       "      <td>00:37:05</td>\n",
       "      <td>NaN</td>\n",
       "      <td>The Night Agent: Staffel 1: Der Anruf (Folge 1)</td>\n",
       "      <td>NaN</td>\n",
       "      <td>Apple iPad Pro 12.9in 4th Gen (Wi-Fi) iPad</td>\n",
       "      <td>00:37:06</td>\n",
       "      <td>Not latest view</td>\n",
       "      <td>DE (Germany)</td>\n",
       "    </tr>\n",
       "    <tr>\n",
       "      <th>3</th>\n",
       "      <td>21-03-2023 12:23</td>\n",
       "      <td>00:00:01</td>\n",
       "      <td>NaN</td>\n",
       "      <td>Ginny &amp; Georgia: Staffel 2: Ich bin nicht Cind...</td>\n",
       "      <td>NaN</td>\n",
       "      <td>Apple iPad Pro 12.9in 4th Gen (Wi-Fi) iPad</td>\n",
       "      <td>01:04:33</td>\n",
       "      <td>01:04:33</td>\n",
       "      <td>DE (Germany)</td>\n",
       "    </tr>\n",
       "    <tr>\n",
       "      <th>4</th>\n",
       "      <td>21-03-2023 12:22</td>\n",
       "      <td>00:00:08</td>\n",
       "      <td>NaN</td>\n",
       "      <td>Ginny &amp; Georgia: Staffel 2: Horcht! Die Dunkel...</td>\n",
       "      <td>NaN</td>\n",
       "      <td>Apple iPad Pro 12.9in 4th Gen (Wi-Fi) iPad</td>\n",
       "      <td>01:00:29</td>\n",
       "      <td>01:00:29</td>\n",
       "      <td>DE (Germany)</td>\n",
       "    </tr>\n",
       "  </tbody>\n",
       "</table>\n",
       "</div>"
      ],
      "text/plain": [
       "         Start Time  Duration Attributes  \\\n",
       "0  29-03-2023 12:00  00:24:06        NaN   \n",
       "1  29-03-2023 11:45  00:14:44        NaN   \n",
       "2  29-03-2023 10:40  00:37:05        NaN   \n",
       "3  21-03-2023 12:23  00:00:01        NaN   \n",
       "4  21-03-2023 12:22  00:00:08        NaN   \n",
       "\n",
       "                                               Title Supplemental Video Type  \\\n",
       "0  The Night Agent: Staffel 1: Wahlwiederholung (...                     NaN   \n",
       "1    The Night Agent: Staffel 1: Der Anruf (Folge 1)                     NaN   \n",
       "2    The Night Agent: Staffel 1: Der Anruf (Folge 1)                     NaN   \n",
       "3  Ginny & Georgia: Staffel 2: Ich bin nicht Cind...                     NaN   \n",
       "4  Ginny & Georgia: Staffel 2: Horcht! Die Dunkel...                     NaN   \n",
       "\n",
       "                                  Device Type  Bookmark  Latest Bookmark  \\\n",
       "0  Apple iPad Pro 12.9in 4th Gen (Wi-Fi) iPad  00:25:35         00:25:35   \n",
       "1  Apple iPad Pro 12.9in 4th Gen (Wi-Fi) iPad  00:51:50         00:51:50   \n",
       "2  Apple iPad Pro 12.9in 4th Gen (Wi-Fi) iPad  00:37:06  Not latest view   \n",
       "3  Apple iPad Pro 12.9in 4th Gen (Wi-Fi) iPad  01:04:33         01:04:33   \n",
       "4  Apple iPad Pro 12.9in 4th Gen (Wi-Fi) iPad  01:00:29         01:00:29   \n",
       "\n",
       "        Country  \n",
       "0  DE (Germany)  \n",
       "1  DE (Germany)  \n",
       "2  DE (Germany)  \n",
       "3  DE (Germany)  \n",
       "4  DE (Germany)  "
      ]
     },
     "execution_count": 296,
     "metadata": {},
     "output_type": "execute_result"
    }
   ],
   "source": [
    "df.head()"
   ]
  },
  {
   "cell_type": "code",
   "execution_count": 297,
   "id": "30855f42",
   "metadata": {},
   "outputs": [
    {
     "data": {
      "text/plain": [
       "Start Time                 5390\n",
       "Duration                   5390\n",
       "Attributes                  513\n",
       "Title                      5390\n",
       "Supplemental Video Type     114\n",
       "Device Type                5390\n",
       "Bookmark                   5390\n",
       "Latest Bookmark            5390\n",
       "Country                    5390\n",
       "dtype: int64"
      ]
     },
     "execution_count": 297,
     "metadata": {},
     "output_type": "execute_result"
    }
   ],
   "source": [
    "df.count()"
   ]
  },
  {
   "cell_type": "code",
   "execution_count": null,
   "id": "fb79b8ba",
   "metadata": {},
   "outputs": [],
   "source": []
  },
  {
   "cell_type": "code",
   "execution_count": null,
   "id": "b946b3a5",
   "metadata": {},
   "outputs": [],
   "source": []
  },
  {
   "cell_type": "code",
   "execution_count": null,
   "id": "31bcc981",
   "metadata": {},
   "outputs": [],
   "source": []
  },
  {
   "cell_type": "markdown",
   "id": "9754b6ff",
   "metadata": {},
   "source": [
    "# How many contries are in the data"
   ]
  },
  {
   "cell_type": "code",
   "execution_count": 298,
   "id": "062d5c75",
   "metadata": {},
   "outputs": [
    {
     "name": "stdout",
     "output_type": "stream",
     "text": [
      "['DE (Germany)' 'GR (Greece)' 'IT (Italy)' 'IE (Ireland)']\n",
      "<class 'numpy.ndarray'>\n"
     ]
    }
   ],
   "source": [
    "unique_countries = df.Country.unique()\n",
    "print(unique_countries)\n",
    "print(type(unique_countries))"
   ]
  },
  {
   "cell_type": "code",
   "execution_count": 299,
   "id": "2209d33b",
   "metadata": {},
   "outputs": [
    {
     "name": "stdout",
     "output_type": "stream",
     "text": [
      "DE (Germany)\n",
      "GR (Greece)\n",
      "IT (Italy)\n",
      "IE (Ireland)\n"
     ]
    }
   ],
   "source": [
    "for i in unique_countries:\n",
    "    print(i)"
   ]
  },
  {
   "cell_type": "code",
   "execution_count": 300,
   "id": "9115a144",
   "metadata": {},
   "outputs": [],
   "source": [
    "#count_germany = df[\"Country\"].value_counts()['DE (Germany)']"
   ]
  },
  {
   "cell_type": "code",
   "execution_count": 301,
   "id": "29970664",
   "metadata": {},
   "outputs": [],
   "source": [
    "x = unique_countries"
   ]
  },
  {
   "cell_type": "code",
   "execution_count": 302,
   "id": "2220949f",
   "metadata": {},
   "outputs": [
    {
     "name": "stdout",
     "output_type": "stream",
     "text": [
      "[5354, 1, 6, 29]\n"
     ]
    }
   ],
   "source": [
    "y=[]\n",
    "for i in unique_countries:\n",
    "    y.append(df[\"Country\"].value_counts()[i])\n",
    "print(y)"
   ]
  },
  {
   "cell_type": "code",
   "execution_count": 303,
   "id": "6f2d1b6a",
   "metadata": {},
   "outputs": [
    {
     "name": "stdout",
     "output_type": "stream",
     "text": [
      "Rectangle(xy=(-0.4, 0), width=0.8, height=5354, angle=0)\n",
      "Rectangle(xy=(0.6, 0), width=0.8, height=1, angle=0)\n",
      "Rectangle(xy=(1.6, 0), width=0.8, height=6, angle=0)\n",
      "Rectangle(xy=(2.6, 0), width=0.8, height=29, angle=0)\n"
     ]
    },
    {
     "data": {
      "text/plain": [
       "Text(0.5, 1.0, 'distribution of Countries')"
      ]
     },
     "execution_count": 303,
     "metadata": {},
     "output_type": "execute_result"
    },
    {
     "data": {
      "image/png": "[encoded data removed]",
      "text/plain": [
       "<Figure size 800x600 with 1 Axes>"
      ]
     },
     "metadata": {},
     "output_type": "display_data"
    }
   ],
   "source": [
    "# Creating bar chart\n",
    "plt.figure(figsize=(8, 6))\n",
    "bars = plt.bar(x, y)\n",
    "\n",
    "# Adding counts on top of bars\n",
    "for bar in bars:\n",
    "    height = bar.get_height()\n",
    "    print(bar)\n",
    "    plt.text(bar.get_x() + bar.get_width()/2, height, str(height), \n",
    "             ha='center', va='bottom', color='black')\n",
    "plt.xlabel('Countries')\n",
    "plt.ylabel('count')\n",
    "plt.title('distribution of Countries')"
   ]
  },
  {
   "cell_type": "markdown",
   "id": "9df1cbae",
   "metadata": {},
   "source": [
    "# Majority of Data comes from Germany"
   ]
  },
  {
   "cell_type": "code",
   "execution_count": 304,
   "id": "7da29b4f",
   "metadata": {},
   "outputs": [],
   "source": [
    "# What is the average watch time (duration) of this user?"
   ]
  },
  {
   "cell_type": "code",
   "execution_count": 305,
   "id": "fb959184",
   "metadata": {},
   "outputs": [],
   "source": [
    "def convert_2_datetime(date_string):\n",
    "    from datetime import datetime\n",
    "    \n",
    "    # Given string\n",
    "    #date_string = \"29-03-2023 12:00:13\"\n",
    "    \n",
    "    # Convert string to datetime object\n",
    "    date_time_obj = datetime.strptime(date_string, '%d-%m-%Y %H:%M')\n",
    "    \n",
    "    return date_time_obj"
   ]
  },
  {
   "cell_type": "code",
   "execution_count": 306,
   "id": "3d63458e",
   "metadata": {},
   "outputs": [],
   "source": [
    "start_time = df[\"Start Time\"]"
   ]
  },
  {
   "cell_type": "code",
   "execution_count": 307,
   "id": "9353aa79",
   "metadata": {},
   "outputs": [],
   "source": [
    "#a = convert_2_datetime(start_time[0])"
   ]
  },
  {
   "cell_type": "code",
   "execution_count": 308,
   "id": "e6fa64c0",
   "metadata": {},
   "outputs": [],
   "source": [
    "st_date=[]\n",
    "st_time=[]\n",
    "st_year = []\n",
    "for i in start_time:\n",
    "    st_date.append(convert_2_datetime(i).date())\n",
    "    st_time.append(convert_2_datetime(i).time())\n",
    "    st_year.append(convert_2_datetime(i).date().year)\n",
    "df[\"Start Time_date\"] = st_date\n",
    "df[\"Start Time_time\"] = st_time\n",
    "df[\"Start Time_year\"] = st_year"
   ]
  },
  {
   "cell_type": "code",
   "execution_count": 309,
   "id": "03a8b0f4",
   "metadata": {},
   "outputs": [
    {
     "data": {
      "text/html": [
       "<div>\n",
       "<style scoped>\n",
       "    .dataframe tbody tr th:only-of-type {\n",
       "        vertical-align: middle;\n",
       "    }\n",
       "\n",
       "    .dataframe tbody tr th {\n",
       "        vertical-align: top;\n",
       "    }\n",
       "\n",
       "    .dataframe thead th {\n",
       "        text-align: right;\n",
       "    }\n",
       "</style>\n",
       "<table border=\"1\" class=\"dataframe\">\n",
       "  <thead>\n",
       "    <tr style=\"text-align: right;\">\n",
       "      <th></th>\n",
       "      <th>Start Time</th>\n",
       "      <th>Duration</th>\n",
       "      <th>Attributes</th>\n",
       "      <th>Title</th>\n",
       "      <th>Supplemental Video Type</th>\n",
       "      <th>Device Type</th>\n",
       "      <th>Bookmark</th>\n",
       "      <th>Latest Bookmark</th>\n",
       "      <th>Country</th>\n",
       "      <th>Start Time_date</th>\n",
       "      <th>Start Time_time</th>\n",
       "      <th>Start Time_year</th>\n",
       "    </tr>\n",
       "  </thead>\n",
       "  <tbody>\n",
       "    <tr>\n",
       "      <th>0</th>\n",
       "      <td>29-03-2023 12:00</td>\n",
       "      <td>00:24:06</td>\n",
       "      <td>NaN</td>\n",
       "      <td>The Night Agent: Staffel 1: Wahlwiederholung (...</td>\n",
       "      <td>NaN</td>\n",
       "      <td>Apple iPad Pro 12.9in 4th Gen (Wi-Fi) iPad</td>\n",
       "      <td>00:25:35</td>\n",
       "      <td>00:25:35</td>\n",
       "      <td>DE (Germany)</td>\n",
       "      <td>2023-03-29</td>\n",
       "      <td>12:00:00</td>\n",
       "      <td>2023</td>\n",
       "    </tr>\n",
       "    <tr>\n",
       "      <th>1</th>\n",
       "      <td>29-03-2023 11:45</td>\n",
       "      <td>00:14:44</td>\n",
       "      <td>NaN</td>\n",
       "      <td>The Night Agent: Staffel 1: Der Anruf (Folge 1)</td>\n",
       "      <td>NaN</td>\n",
       "      <td>Apple iPad Pro 12.9in 4th Gen (Wi-Fi) iPad</td>\n",
       "      <td>00:51:50</td>\n",
       "      <td>00:51:50</td>\n",
       "      <td>DE (Germany)</td>\n",
       "      <td>2023-03-29</td>\n",
       "      <td>11:45:00</td>\n",
       "      <td>2023</td>\n",
       "    </tr>\n",
       "    <tr>\n",
       "      <th>2</th>\n",
       "      <td>29-03-2023 10:40</td>\n",
       "      <td>00:37:05</td>\n",
       "      <td>NaN</td>\n",
       "      <td>The Night Agent: Staffel 1: Der Anruf (Folge 1)</td>\n",
       "      <td>NaN</td>\n",
       "      <td>Apple iPad Pro 12.9in 4th Gen (Wi-Fi) iPad</td>\n",
       "      <td>00:37:06</td>\n",
       "      <td>Not latest view</td>\n",
       "      <td>DE (Germany)</td>\n",
       "      <td>2023-03-29</td>\n",
       "      <td>10:40:00</td>\n",
       "      <td>2023</td>\n",
       "    </tr>\n",
       "    <tr>\n",
       "      <th>3</th>\n",
       "      <td>21-03-2023 12:23</td>\n",
       "      <td>00:00:01</td>\n",
       "      <td>NaN</td>\n",
       "      <td>Ginny &amp; Georgia: Staffel 2: Ich bin nicht Cind...</td>\n",
       "      <td>NaN</td>\n",
       "      <td>Apple iPad Pro 12.9in 4th Gen (Wi-Fi) iPad</td>\n",
       "      <td>01:04:33</td>\n",
       "      <td>01:04:33</td>\n",
       "      <td>DE (Germany)</td>\n",
       "      <td>2023-03-21</td>\n",
       "      <td>12:23:00</td>\n",
       "      <td>2023</td>\n",
       "    </tr>\n",
       "    <tr>\n",
       "      <th>4</th>\n",
       "      <td>21-03-2023 12:22</td>\n",
       "      <td>00:00:08</td>\n",
       "      <td>NaN</td>\n",
       "      <td>Ginny &amp; Georgia: Staffel 2: Horcht! Die Dunkel...</td>\n",
       "      <td>NaN</td>\n",
       "      <td>Apple iPad Pro 12.9in 4th Gen (Wi-Fi) iPad</td>\n",
       "      <td>01:00:29</td>\n",
       "      <td>01:00:29</td>\n",
       "      <td>DE (Germany)</td>\n",
       "      <td>2023-03-21</td>\n",
       "      <td>12:22:00</td>\n",
       "      <td>2023</td>\n",
       "    </tr>\n",
       "  </tbody>\n",
       "</table>\n",
       "</div>"
      ],
      "text/plain": [
       "         Start Time  Duration Attributes  \\\n",
       "0  29-03-2023 12:00  00:24:06        NaN   \n",
       "1  29-03-2023 11:45  00:14:44        NaN   \n",
       "2  29-03-2023 10:40  00:37:05        NaN   \n",
       "3  21-03-2023 12:23  00:00:01        NaN   \n",
       "4  21-03-2023 12:22  00:00:08        NaN   \n",
       "\n",
       "                                               Title Supplemental Video Type  \\\n",
       "0  The Night Agent: Staffel 1: Wahlwiederholung (...                     NaN   \n",
       "1    The Night Agent: Staffel 1: Der Anruf (Folge 1)                     NaN   \n",
       "2    The Night Agent: Staffel 1: Der Anruf (Folge 1)                     NaN   \n",
       "3  Ginny & Georgia: Staffel 2: Ich bin nicht Cind...                     NaN   \n",
       "4  Ginny & Georgia: Staffel 2: Horcht! Die Dunkel...                     NaN   \n",
       "\n",
       "                                  Device Type  Bookmark  Latest Bookmark  \\\n",
       "0  Apple iPad Pro 12.9in 4th Gen (Wi-Fi) iPad  00:25:35         00:25:35   \n",
       "1  Apple iPad Pro 12.9in 4th Gen (Wi-Fi) iPad  00:51:50         00:51:50   \n",
       "2  Apple iPad Pro 12.9in 4th Gen (Wi-Fi) iPad  00:37:06  Not latest view   \n",
       "3  Apple iPad Pro 12.9in 4th Gen (Wi-Fi) iPad  01:04:33         01:04:33   \n",
       "4  Apple iPad Pro 12.9in 4th Gen (Wi-Fi) iPad  01:00:29         01:00:29   \n",
       "\n",
       "        Country Start Time_date Start Time_time  Start Time_year  \n",
       "0  DE (Germany)      2023-03-29        12:00:00             2023  \n",
       "1  DE (Germany)      2023-03-29        11:45:00             2023  \n",
       "2  DE (Germany)      2023-03-29        10:40:00             2023  \n",
       "3  DE (Germany)      2023-03-21        12:23:00             2023  \n",
       "4  DE (Germany)      2023-03-21        12:22:00             2023  "
      ]
     },
     "execution_count": 309,
     "metadata": {},
     "output_type": "execute_result"
    }
   ],
   "source": [
    "df.head()"
   ]
  },
  {
   "cell_type": "code",
   "execution_count": 310,
   "id": "d2b3d80f",
   "metadata": {},
   "outputs": [
    {
     "data": {
      "text/plain": [
       "'The Night Agent: Staffel 1: Wahlwiederholung (Folge 2)'"
      ]
     },
     "execution_count": 310,
     "metadata": {},
     "output_type": "execute_result"
    }
   ],
   "source": [
    "df.loc[0,\"Title\"]"
   ]
  },
  {
   "cell_type": "code",
   "execution_count": 311,
   "id": "c1325d5c",
   "metadata": {},
   "outputs": [
    {
     "data": {
      "text/plain": [
       "0       The Night Agent: Staffel 1: Wahlwiederholung (...\n",
       "1106    Persona 5: The Animation: Staffel 1: Operation...\n",
       "1107    Persona 5: The Animation: Staffel 1: Beende es...\n",
       "1111    Persona 5: The Animation: Staffel 1: Unser näc...\n",
       "2971              Tokyo Ghoul: Staffel 1: Ghul (Folge 12)\n",
       "3231     Big Mouth: Staffel 1: Everybody Bleeds (Folge 2)\n",
       "Name: Title, dtype: object"
      ]
     },
     "execution_count": 311,
     "metadata": {},
     "output_type": "execute_result"
    }
   ],
   "source": [
    "df.loc[df['Duration']=='00:24:06',\"Title\"]"
   ]
  },
  {
   "cell_type": "code",
   "execution_count": 312,
   "id": "96f7cb1f",
   "metadata": {},
   "outputs": [
    {
     "name": "stdout",
     "output_type": "stream",
     "text": [
      "Value with highest count: 2018-09-03\n",
      "Highest count: 37\n"
     ]
    }
   ],
   "source": [
    "highest_count_value = df['Start Time_date'].value_counts().idxmax()\n",
    "highest_count = df['Start Time_date'].value_counts().max()\n",
    "\n",
    "print(f\"Value with highest count: {highest_count_value}\")\n",
    "print(f\"Highest count: {highest_count}\")"
   ]
  },
  {
   "cell_type": "markdown",
   "id": "b855020f",
   "metadata": {},
   "source": [
    "# average duration in Total"
   ]
  },
  {
   "cell_type": "code",
   "execution_count": 313,
   "id": "de07909b",
   "metadata": {},
   "outputs": [],
   "source": [
    "def convert_2_time(date_string):\n",
    "    from datetime import datetime\n",
    "    \n",
    "    # Given string\n",
    "    #date_string = \"29-03-2023 12:00:13\"\n",
    "    \n",
    "    # Convert string to datetime object\n",
    "    date_time_obj = datetime.strptime(date_string, '%H:%M:%S')\n",
    "    \n",
    "    date_time = date_time_obj.time()\n",
    "    \n",
    "    return date_time"
   ]
  },
  {
   "cell_type": "code",
   "execution_count": 314,
   "id": "a05a88dd",
   "metadata": {},
   "outputs": [],
   "source": [
    "duration = df['Duration']"
   ]
  },
  {
   "cell_type": "code",
   "execution_count": 315,
   "id": "82ead34e",
   "metadata": {},
   "outputs": [
    {
     "data": {
      "text/plain": [
       "0       00:24:06\n",
       "1       00:14:44\n",
       "2       00:37:05\n",
       "3       00:00:01\n",
       "4       00:00:08\n",
       "          ...   \n",
       "5385    00:03:16\n",
       "5386    00:22:51\n",
       "5387    00:33:21\n",
       "5388    00:01:31\n",
       "5389    00:08:43\n",
       "Name: Duration, Length: 5390, dtype: object"
      ]
     },
     "execution_count": 315,
     "metadata": {},
     "output_type": "execute_result"
    }
   ],
   "source": [
    "duration"
   ]
  },
  {
   "cell_type": "code",
   "execution_count": 316,
   "id": "88a81a48",
   "metadata": {},
   "outputs": [],
   "source": [
    "duration_datetime = pd.Series([convert_2_time(i) for i in duration])"
   ]
  },
  {
   "cell_type": "code",
   "execution_count": 317,
   "id": "a14c4d03",
   "metadata": {},
   "outputs": [
    {
     "data": {
      "text/plain": [
       "5390"
      ]
     },
     "execution_count": 317,
     "metadata": {},
     "output_type": "execute_result"
    }
   ],
   "source": [
    "len(duration_datetime)"
   ]
  },
  {
   "cell_type": "code",
   "execution_count": 318,
   "id": "1479cc47",
   "metadata": {},
   "outputs": [],
   "source": [
    "df['duration_datetime'] = duration_datetime"
   ]
  },
  {
   "cell_type": "code",
   "execution_count": 319,
   "id": "3369407f",
   "metadata": {},
   "outputs": [
    {
     "data": {
      "text/html": [
       "<div>\n",
       "<style scoped>\n",
       "    .dataframe tbody tr th:only-of-type {\n",
       "        vertical-align: middle;\n",
       "    }\n",
       "\n",
       "    .dataframe tbody tr th {\n",
       "        vertical-align: top;\n",
       "    }\n",
       "\n",
       "    .dataframe thead th {\n",
       "        text-align: right;\n",
       "    }\n",
       "</style>\n",
       "<table border=\"1\" class=\"dataframe\">\n",
       "  <thead>\n",
       "    <tr style=\"text-align: right;\">\n",
       "      <th></th>\n",
       "      <th>Start Time</th>\n",
       "      <th>Duration</th>\n",
       "      <th>Attributes</th>\n",
       "      <th>Title</th>\n",
       "      <th>Supplemental Video Type</th>\n",
       "      <th>Device Type</th>\n",
       "      <th>Bookmark</th>\n",
       "      <th>Latest Bookmark</th>\n",
       "      <th>Country</th>\n",
       "      <th>Start Time_date</th>\n",
       "      <th>Start Time_time</th>\n",
       "      <th>Start Time_year</th>\n",
       "      <th>duration_datetime</th>\n",
       "    </tr>\n",
       "  </thead>\n",
       "  <tbody>\n",
       "    <tr>\n",
       "      <th>0</th>\n",
       "      <td>29-03-2023 12:00</td>\n",
       "      <td>00:24:06</td>\n",
       "      <td>NaN</td>\n",
       "      <td>The Night Agent: Staffel 1: Wahlwiederholung (...</td>\n",
       "      <td>NaN</td>\n",
       "      <td>Apple iPad Pro 12.9in 4th Gen (Wi-Fi) iPad</td>\n",
       "      <td>00:25:35</td>\n",
       "      <td>00:25:35</td>\n",
       "      <td>DE (Germany)</td>\n",
       "      <td>2023-03-29</td>\n",
       "      <td>12:00:00</td>\n",
       "      <td>2023</td>\n",
       "      <td>00:24:06</td>\n",
       "    </tr>\n",
       "    <tr>\n",
       "      <th>1</th>\n",
       "      <td>29-03-2023 11:45</td>\n",
       "      <td>00:14:44</td>\n",
       "      <td>NaN</td>\n",
       "      <td>The Night Agent: Staffel 1: Der Anruf (Folge 1)</td>\n",
       "      <td>NaN</td>\n",
       "      <td>Apple iPad Pro 12.9in 4th Gen (Wi-Fi) iPad</td>\n",
       "      <td>00:51:50</td>\n",
       "      <td>00:51:50</td>\n",
       "      <td>DE (Germany)</td>\n",
       "      <td>2023-03-29</td>\n",
       "      <td>11:45:00</td>\n",
       "      <td>2023</td>\n",
       "      <td>00:14:44</td>\n",
       "    </tr>\n",
       "    <tr>\n",
       "      <th>2</th>\n",
       "      <td>29-03-2023 10:40</td>\n",
       "      <td>00:37:05</td>\n",
       "      <td>NaN</td>\n",
       "      <td>The Night Agent: Staffel 1: Der Anruf (Folge 1)</td>\n",
       "      <td>NaN</td>\n",
       "      <td>Apple iPad Pro 12.9in 4th Gen (Wi-Fi) iPad</td>\n",
       "      <td>00:37:06</td>\n",
       "      <td>Not latest view</td>\n",
       "      <td>DE (Germany)</td>\n",
       "      <td>2023-03-29</td>\n",
       "      <td>10:40:00</td>\n",
       "      <td>2023</td>\n",
       "      <td>00:37:05</td>\n",
       "    </tr>\n",
       "    <tr>\n",
       "      <th>3</th>\n",
       "      <td>21-03-2023 12:23</td>\n",
       "      <td>00:00:01</td>\n",
       "      <td>NaN</td>\n",
       "      <td>Ginny &amp; Georgia: Staffel 2: Ich bin nicht Cind...</td>\n",
       "      <td>NaN</td>\n",
       "      <td>Apple iPad Pro 12.9in 4th Gen (Wi-Fi) iPad</td>\n",
       "      <td>01:04:33</td>\n",
       "      <td>01:04:33</td>\n",
       "      <td>DE (Germany)</td>\n",
       "      <td>2023-03-21</td>\n",
       "      <td>12:23:00</td>\n",
       "      <td>2023</td>\n",
       "      <td>00:00:01</td>\n",
       "    </tr>\n",
       "    <tr>\n",
       "      <th>4</th>\n",
       "      <td>21-03-2023 12:22</td>\n",
       "      <td>00:00:08</td>\n",
       "      <td>NaN</td>\n",
       "      <td>Ginny &amp; Georgia: Staffel 2: Horcht! Die Dunkel...</td>\n",
       "      <td>NaN</td>\n",
       "      <td>Apple iPad Pro 12.9in 4th Gen (Wi-Fi) iPad</td>\n",
       "      <td>01:00:29</td>\n",
       "      <td>01:00:29</td>\n",
       "      <td>DE (Germany)</td>\n",
       "      <td>2023-03-21</td>\n",
       "      <td>12:22:00</td>\n",
       "      <td>2023</td>\n",
       "      <td>00:00:08</td>\n",
       "    </tr>\n",
       "    <tr>\n",
       "      <th>...</th>\n",
       "      <td>...</td>\n",
       "      <td>...</td>\n",
       "      <td>...</td>\n",
       "      <td>...</td>\n",
       "      <td>...</td>\n",
       "      <td>...</td>\n",
       "      <td>...</td>\n",
       "      <td>...</td>\n",
       "      <td>...</td>\n",
       "      <td>...</td>\n",
       "      <td>...</td>\n",
       "      <td>...</td>\n",
       "      <td>...</td>\n",
       "    </tr>\n",
       "    <tr>\n",
       "      <th>5385</th>\n",
       "      <td>04-06-2018 23:28</td>\n",
       "      <td>00:03:16</td>\n",
       "      <td>NaN</td>\n",
       "      <td>Tote Mädchen lügen nicht: Staffel 1: Kassette ...</td>\n",
       "      <td>NaN</td>\n",
       "      <td>Netflix Windows App - Cadmium Windows Mobile</td>\n",
       "      <td>00:00:01</td>\n",
       "      <td>Not latest view</td>\n",
       "      <td>DE (Germany)</td>\n",
       "      <td>2018-06-04</td>\n",
       "      <td>23:28:00</td>\n",
       "      <td>2018</td>\n",
       "      <td>00:03:16</td>\n",
       "    </tr>\n",
       "    <tr>\n",
       "      <th>5386</th>\n",
       "      <td>04-06-2018 22:54</td>\n",
       "      <td>00:22:51</td>\n",
       "      <td>NaN</td>\n",
       "      <td>Tote Mädchen lügen nicht: Staffel 2: Das erste...</td>\n",
       "      <td>NaN</td>\n",
       "      <td>Netflix Windows App - Cadmium Windows Mobile</td>\n",
       "      <td>00:56:21</td>\n",
       "      <td>Not latest view</td>\n",
       "      <td>DE (Germany)</td>\n",
       "      <td>2018-06-04</td>\n",
       "      <td>22:54:00</td>\n",
       "      <td>2018</td>\n",
       "      <td>00:22:51</td>\n",
       "    </tr>\n",
       "    <tr>\n",
       "      <th>5387</th>\n",
       "      <td>04-06-2018 17:40</td>\n",
       "      <td>00:33:21</td>\n",
       "      <td>NaN</td>\n",
       "      <td>Tote Mädchen lügen nicht: Staffel 2: Das erste...</td>\n",
       "      <td>NaN</td>\n",
       "      <td>Netflix Windows App - Cadmium Windows Mobile</td>\n",
       "      <td>00:33:34</td>\n",
       "      <td>Not latest view</td>\n",
       "      <td>DE (Germany)</td>\n",
       "      <td>2018-06-04</td>\n",
       "      <td>17:40:00</td>\n",
       "      <td>2018</td>\n",
       "      <td>00:33:21</td>\n",
       "    </tr>\n",
       "    <tr>\n",
       "      <th>5388</th>\n",
       "      <td>04-06-2018 17:39</td>\n",
       "      <td>00:01:31</td>\n",
       "      <td>NaN</td>\n",
       "      <td>Tote Mädchen lügen nicht: Staffel 1: Kassette ...</td>\n",
       "      <td>NaN</td>\n",
       "      <td>Netflix Windows App - Cadmium Windows Mobile</td>\n",
       "      <td>00:01:31</td>\n",
       "      <td>Not latest view</td>\n",
       "      <td>DE (Germany)</td>\n",
       "      <td>2018-06-04</td>\n",
       "      <td>17:39:00</td>\n",
       "      <td>2018</td>\n",
       "      <td>00:01:31</td>\n",
       "    </tr>\n",
       "    <tr>\n",
       "      <th>5389</th>\n",
       "      <td>10-04-2018 13:35</td>\n",
       "      <td>00:08:43</td>\n",
       "      <td>NaN</td>\n",
       "      <td>Jane the Virgin: Staffel 1: Kapitel vier (Folg...</td>\n",
       "      <td>NaN</td>\n",
       "      <td>Firefox PC (Cadmium)</td>\n",
       "      <td>00:09:36</td>\n",
       "      <td>00:09:36</td>\n",
       "      <td>DE (Germany)</td>\n",
       "      <td>2018-04-10</td>\n",
       "      <td>13:35:00</td>\n",
       "      <td>2018</td>\n",
       "      <td>00:08:43</td>\n",
       "    </tr>\n",
       "  </tbody>\n",
       "</table>\n",
       "<p>5390 rows × 13 columns</p>\n",
       "</div>"
      ],
      "text/plain": [
       "            Start Time  Duration Attributes  \\\n",
       "0     29-03-2023 12:00  00:24:06        NaN   \n",
       "1     29-03-2023 11:45  00:14:44        NaN   \n",
       "2     29-03-2023 10:40  00:37:05        NaN   \n",
       "3     21-03-2023 12:23  00:00:01        NaN   \n",
       "4     21-03-2023 12:22  00:00:08        NaN   \n",
       "...                ...       ...        ...   \n",
       "5385  04-06-2018 23:28  00:03:16        NaN   \n",
       "5386  04-06-2018 22:54  00:22:51        NaN   \n",
       "5387  04-06-2018 17:40  00:33:21        NaN   \n",
       "5388  04-06-2018 17:39  00:01:31        NaN   \n",
       "5389  10-04-2018 13:35  00:08:43        NaN   \n",
       "\n",
       "                                                  Title  \\\n",
       "0     The Night Agent: Staffel 1: Wahlwiederholung (...   \n",
       "1       The Night Agent: Staffel 1: Der Anruf (Folge 1)   \n",
       "2       The Night Agent: Staffel 1: Der Anruf (Folge 1)   \n",
       "3     Ginny & Georgia: Staffel 2: Ich bin nicht Cind...   \n",
       "4     Ginny & Georgia: Staffel 2: Horcht! Die Dunkel...   \n",
       "...                                                 ...   \n",
       "5385  Tote Mädchen lügen nicht: Staffel 1: Kassette ...   \n",
       "5386  Tote Mädchen lügen nicht: Staffel 2: Das erste...   \n",
       "5387  Tote Mädchen lügen nicht: Staffel 2: Das erste...   \n",
       "5388  Tote Mädchen lügen nicht: Staffel 1: Kassette ...   \n",
       "5389  Jane the Virgin: Staffel 1: Kapitel vier (Folg...   \n",
       "\n",
       "     Supplemental Video Type                                   Device Type  \\\n",
       "0                        NaN    Apple iPad Pro 12.9in 4th Gen (Wi-Fi) iPad   \n",
       "1                        NaN    Apple iPad Pro 12.9in 4th Gen (Wi-Fi) iPad   \n",
       "2                        NaN    Apple iPad Pro 12.9in 4th Gen (Wi-Fi) iPad   \n",
       "3                        NaN    Apple iPad Pro 12.9in 4th Gen (Wi-Fi) iPad   \n",
       "4                        NaN    Apple iPad Pro 12.9in 4th Gen (Wi-Fi) iPad   \n",
       "...                      ...                                           ...   \n",
       "5385                     NaN  Netflix Windows App - Cadmium Windows Mobile   \n",
       "5386                     NaN  Netflix Windows App - Cadmium Windows Mobile   \n",
       "5387                     NaN  Netflix Windows App - Cadmium Windows Mobile   \n",
       "5388                     NaN  Netflix Windows App - Cadmium Windows Mobile   \n",
       "5389                     NaN                          Firefox PC (Cadmium)   \n",
       "\n",
       "      Bookmark  Latest Bookmark       Country Start Time_date Start Time_time  \\\n",
       "0     00:25:35         00:25:35  DE (Germany)      2023-03-29        12:00:00   \n",
       "1     00:51:50         00:51:50  DE (Germany)      2023-03-29        11:45:00   \n",
       "2     00:37:06  Not latest view  DE (Germany)      2023-03-29        10:40:00   \n",
       "3     01:04:33         01:04:33  DE (Germany)      2023-03-21        12:23:00   \n",
       "4     01:00:29         01:00:29  DE (Germany)      2023-03-21        12:22:00   \n",
       "...        ...              ...           ...             ...             ...   \n",
       "5385  00:00:01  Not latest view  DE (Germany)      2018-06-04        23:28:00   \n",
       "5386  00:56:21  Not latest view  DE (Germany)      2018-06-04        22:54:00   \n",
       "5387  00:33:34  Not latest view  DE (Germany)      2018-06-04        17:40:00   \n",
       "5388  00:01:31  Not latest view  DE (Germany)      2018-06-04        17:39:00   \n",
       "5389  00:09:36         00:09:36  DE (Germany)      2018-04-10        13:35:00   \n",
       "\n",
       "      Start Time_year duration_datetime  \n",
       "0                2023          00:24:06  \n",
       "1                2023          00:14:44  \n",
       "2                2023          00:37:05  \n",
       "3                2023          00:00:01  \n",
       "4                2023          00:00:08  \n",
       "...               ...               ...  \n",
       "5385             2018          00:03:16  \n",
       "5386             2018          00:22:51  \n",
       "5387             2018          00:33:21  \n",
       "5388             2018          00:01:31  \n",
       "5389             2018          00:08:43  \n",
       "\n",
       "[5390 rows x 13 columns]"
      ]
     },
     "execution_count": 319,
     "metadata": {},
     "output_type": "execute_result"
    }
   ],
   "source": [
    "df"
   ]
  },
  {
   "cell_type": "code",
   "execution_count": 320,
   "id": "699891ce",
   "metadata": {},
   "outputs": [],
   "source": [
    "total_seconds_series = duration_datetime.apply(lambda x: x.hour * 3600 + x.minute * 60 + x.second)"
   ]
  },
  {
   "cell_type": "code",
   "execution_count": 321,
   "id": "c52e23d0",
   "metadata": {},
   "outputs": [
    {
     "name": "stdout",
     "output_type": "stream",
     "text": [
      "Average time: 00:20:45.053988\n",
      "Average time of the user is 20 mins\n"
     ]
    }
   ],
   "source": [
    "# Calculate the average total seconds\n",
    "average_total_seconds = total_seconds_series.mean()\n",
    "\n",
    "\n",
    "# Calculate the average total seconds\n",
    "average_total_seconds = total_seconds_series.mean()\n",
    "\n",
    "\n",
    "# Convert average total seconds back to a time object\n",
    "average_time = pd.to_datetime(average_total_seconds, unit=\"s\").time()\n",
    "\n",
    "print(\"Average time:\", average_time)\n",
    "print(f\"Average time of the user is {average_time.minute} mins\")"
   ]
  },
  {
   "cell_type": "code",
   "execution_count": 322,
   "id": "70867afb",
   "metadata": {},
   "outputs": [],
   "source": [
    "def convert_2_mins_duration(duration_datetime):\n",
    "    total_seconds_series = duration_datetime.apply(lambda x: x.hour * 3600 + x.minute * 60 + x.second)\n",
    "    total_seconds = total_seconds_series.sum()\n",
    "    total_minutes = total_seconds/60\n",
    "    return total_minutes"
   ]
  },
  {
   "cell_type": "code",
   "execution_count": 323,
   "id": "908ffe0f",
   "metadata": {},
   "outputs": [
    {
     "data": {
      "text/plain": [
       "111847.35"
      ]
     },
     "execution_count": 323,
     "metadata": {},
     "output_type": "execute_result"
    }
   ],
   "source": [
    "convert_2_mins_duration(duration_datetime)"
   ]
  },
  {
   "cell_type": "markdown",
   "id": "ce742dce",
   "metadata": {},
   "source": [
    "# minutes of watch time in Germany"
   ]
  },
  {
   "cell_type": "code",
   "execution_count": 324,
   "id": "593041e8",
   "metadata": {},
   "outputs": [],
   "source": [
    "duration_germany = df.loc[df['Country']=='DE (Germany)',\"Duration\"]"
   ]
  },
  {
   "cell_type": "code",
   "execution_count": 325,
   "id": "107c1f7a",
   "metadata": {},
   "outputs": [],
   "source": [
    "duration_germany_datetime = pd.to_datetime(duration_germany)"
   ]
  },
  {
   "cell_type": "code",
   "execution_count": 326,
   "id": "372e05a5",
   "metadata": {},
   "outputs": [],
   "source": [
    "duration_germany_total_seconds = duration_germany_datetime.apply(lambda x: x.hour * 3600 + x.minute * 60 + x.second).sum()"
   ]
  },
  {
   "cell_type": "code",
   "execution_count": 327,
   "id": "e46af1fe",
   "metadata": {},
   "outputs": [],
   "source": [
    "total_time_minutes = duration_germany_total_seconds/60"
   ]
  },
  {
   "cell_type": "code",
   "execution_count": 328,
   "id": "5c284e6e",
   "metadata": {},
   "outputs": [
    {
     "name": "stdout",
     "output_type": "stream",
     "text": [
      "total minutes of watch time in germany: 111022.3\n"
     ]
    }
   ],
   "source": [
    "print(\"total minutes of watch time in germany:\", total_time_minutes)"
   ]
  },
  {
   "cell_type": "code",
   "execution_count": null,
   "id": "0f50dabc",
   "metadata": {},
   "outputs": [],
   "source": []
  },
  {
   "cell_type": "code",
   "execution_count": 329,
   "id": "c594eed1",
   "metadata": {},
   "outputs": [],
   "source": [
    "title = df['Title']"
   ]
  },
  {
   "cell_type": "code",
   "execution_count": 330,
   "id": "fad0ad0c",
   "metadata": {},
   "outputs": [
    {
     "data": {
      "text/plain": [
       "3019"
      ]
     },
     "execution_count": 330,
     "metadata": {},
     "output_type": "execute_result"
    }
   ],
   "source": [
    "title.unique().size"
   ]
  },
  {
   "cell_type": "code",
   "execution_count": 331,
   "id": "0b15a9bd",
   "metadata": {},
   "outputs": [],
   "source": [
    "c=df['Title'].value_counts()[title.unique()]"
   ]
  },
  {
   "cell_type": "code",
   "execution_count": 332,
   "id": "586dc218",
   "metadata": {},
   "outputs": [
    {
     "name": "stdout",
     "output_type": "stream",
     "text": [
      "The Night Agent: Staffel 1: Wahlwiederholung (Folge 2)                      1\n",
      "The Night Agent: Staffel 1: Der Anruf (Folge 1)                             2\n",
      "Ginny & Georgia: Staffel 2: Ich bin nicht Cinderella (Folge 10)             1\n",
      "Ginny & Georgia: Staffel 2: Horcht! Die Dunkelheit bricht an (Folge 8)      3\n",
      "Shadow and Bone – Legenden der Grisha: Staffel 2: Keine Gräber (Folge 8)    1\n",
      "                                                                           ..\n",
      "The First Avenger: Civil War                                                1\n",
      "Batman v Superman: Dawn of Justice                                          1\n",
      "Marvel's The Avengers                                                       2\n",
      "The Return of the First Avenger                                             2\n",
      "Jane the Virgin: Staffel 1: Kapitel vier (Folge 4)                          1\n",
      "Name: Title, Length: 3019, dtype: int64\n"
     ]
    }
   ],
   "source": [
    "print(c)"
   ]
  },
  {
   "cell_type": "code",
   "execution_count": null,
   "id": "198cd5f4",
   "metadata": {},
   "outputs": [],
   "source": []
  },
  {
   "cell_type": "code",
   "execution_count": 333,
   "id": "8e471d7c",
   "metadata": {},
   "outputs": [],
   "source": [
    "title = df['Title']"
   ]
  },
  {
   "cell_type": "code",
   "execution_count": 334,
   "id": "6e373a1e",
   "metadata": {},
   "outputs": [],
   "source": [
    "title_lst = []\n",
    "for i in range(len(title)):\n",
    "    first_row = df.iloc[i].tolist()\n",
    "    title_lst.append(first_row)"
   ]
  },
  {
   "cell_type": "code",
   "execution_count": 335,
   "id": "3b748212",
   "metadata": {},
   "outputs": [],
   "source": [
    "movie_names_full= []\n",
    "for i in range(len(title_lst)):\n",
    "    movie_names_full.append(title_lst[i][3])"
   ]
  },
  {
   "cell_type": "code",
   "execution_count": 336,
   "id": "94f9d963",
   "metadata": {},
   "outputs": [],
   "source": [
    "movie_names_split = []\n",
    "movie_names = []\n",
    "for i in range(len(movie_names_full)):\n",
    "    movie_names_split.append(movie_names_full[i].split(':'))\n",
    "    movie_names.append(movie_names_full[i].split(':')[0])"
   ]
  },
  {
   "cell_type": "code",
   "execution_count": null,
   "id": "bf3347ac",
   "metadata": {},
   "outputs": [],
   "source": []
  },
  {
   "cell_type": "code",
   "execution_count": 337,
   "id": "efc1f7ed",
   "metadata": {},
   "outputs": [],
   "source": [
    "df['movie_names'] = movie_names"
   ]
  },
  {
   "cell_type": "code",
   "execution_count": 338,
   "id": "07fce99e",
   "metadata": {},
   "outputs": [
    {
     "name": "stdout",
     "output_type": "stream",
     "text": [
      "The Blacklist\n",
      "333\n"
     ]
    }
   ],
   "source": [
    "movie_names_unique = df['movie_names'].value_counts()[df['movie_names'].unique()]\n",
    "print(movie_names_unique.idxmax())\n",
    "print(movie_names_unique.max())"
   ]
  },
  {
   "cell_type": "code",
   "execution_count": 339,
   "id": "4a42f4af",
   "metadata": {},
   "outputs": [
    {
     "data": {
      "text/html": [
       "<div>\n",
       "<style scoped>\n",
       "    .dataframe tbody tr th:only-of-type {\n",
       "        vertical-align: middle;\n",
       "    }\n",
       "\n",
       "    .dataframe tbody tr th {\n",
       "        vertical-align: top;\n",
       "    }\n",
       "\n",
       "    .dataframe thead th {\n",
       "        text-align: right;\n",
       "    }\n",
       "</style>\n",
       "<table border=\"1\" class=\"dataframe\">\n",
       "  <thead>\n",
       "    <tr style=\"text-align: right;\">\n",
       "      <th></th>\n",
       "      <th>Start Time</th>\n",
       "      <th>Duration</th>\n",
       "      <th>Attributes</th>\n",
       "      <th>Title</th>\n",
       "      <th>Supplemental Video Type</th>\n",
       "      <th>Device Type</th>\n",
       "      <th>Bookmark</th>\n",
       "      <th>Latest Bookmark</th>\n",
       "      <th>Country</th>\n",
       "      <th>Start Time_date</th>\n",
       "      <th>Start Time_time</th>\n",
       "      <th>Start Time_year</th>\n",
       "      <th>duration_datetime</th>\n",
       "      <th>movie_names</th>\n",
       "    </tr>\n",
       "  </thead>\n",
       "  <tbody>\n",
       "    <tr>\n",
       "      <th>0</th>\n",
       "      <td>29-03-2023 12:00</td>\n",
       "      <td>00:24:06</td>\n",
       "      <td>NaN</td>\n",
       "      <td>The Night Agent: Staffel 1: Wahlwiederholung (...</td>\n",
       "      <td>NaN</td>\n",
       "      <td>Apple iPad Pro 12.9in 4th Gen (Wi-Fi) iPad</td>\n",
       "      <td>00:25:35</td>\n",
       "      <td>00:25:35</td>\n",
       "      <td>DE (Germany)</td>\n",
       "      <td>2023-03-29</td>\n",
       "      <td>12:00:00</td>\n",
       "      <td>2023</td>\n",
       "      <td>00:24:06</td>\n",
       "      <td>The Night Agent</td>\n",
       "    </tr>\n",
       "    <tr>\n",
       "      <th>1</th>\n",
       "      <td>29-03-2023 11:45</td>\n",
       "      <td>00:14:44</td>\n",
       "      <td>NaN</td>\n",
       "      <td>The Night Agent: Staffel 1: Der Anruf (Folge 1)</td>\n",
       "      <td>NaN</td>\n",
       "      <td>Apple iPad Pro 12.9in 4th Gen (Wi-Fi) iPad</td>\n",
       "      <td>00:51:50</td>\n",
       "      <td>00:51:50</td>\n",
       "      <td>DE (Germany)</td>\n",
       "      <td>2023-03-29</td>\n",
       "      <td>11:45:00</td>\n",
       "      <td>2023</td>\n",
       "      <td>00:14:44</td>\n",
       "      <td>The Night Agent</td>\n",
       "    </tr>\n",
       "    <tr>\n",
       "      <th>2</th>\n",
       "      <td>29-03-2023 10:40</td>\n",
       "      <td>00:37:05</td>\n",
       "      <td>NaN</td>\n",
       "      <td>The Night Agent: Staffel 1: Der Anruf (Folge 1)</td>\n",
       "      <td>NaN</td>\n",
       "      <td>Apple iPad Pro 12.9in 4th Gen (Wi-Fi) iPad</td>\n",
       "      <td>00:37:06</td>\n",
       "      <td>Not latest view</td>\n",
       "      <td>DE (Germany)</td>\n",
       "      <td>2023-03-29</td>\n",
       "      <td>10:40:00</td>\n",
       "      <td>2023</td>\n",
       "      <td>00:37:05</td>\n",
       "      <td>The Night Agent</td>\n",
       "    </tr>\n",
       "    <tr>\n",
       "      <th>3</th>\n",
       "      <td>21-03-2023 12:23</td>\n",
       "      <td>00:00:01</td>\n",
       "      <td>NaN</td>\n",
       "      <td>Ginny &amp; Georgia: Staffel 2: Ich bin nicht Cind...</td>\n",
       "      <td>NaN</td>\n",
       "      <td>Apple iPad Pro 12.9in 4th Gen (Wi-Fi) iPad</td>\n",
       "      <td>01:04:33</td>\n",
       "      <td>01:04:33</td>\n",
       "      <td>DE (Germany)</td>\n",
       "      <td>2023-03-21</td>\n",
       "      <td>12:23:00</td>\n",
       "      <td>2023</td>\n",
       "      <td>00:00:01</td>\n",
       "      <td>Ginny &amp; Georgia</td>\n",
       "    </tr>\n",
       "    <tr>\n",
       "      <th>4</th>\n",
       "      <td>21-03-2023 12:22</td>\n",
       "      <td>00:00:08</td>\n",
       "      <td>NaN</td>\n",
       "      <td>Ginny &amp; Georgia: Staffel 2: Horcht! Die Dunkel...</td>\n",
       "      <td>NaN</td>\n",
       "      <td>Apple iPad Pro 12.9in 4th Gen (Wi-Fi) iPad</td>\n",
       "      <td>01:00:29</td>\n",
       "      <td>01:00:29</td>\n",
       "      <td>DE (Germany)</td>\n",
       "      <td>2023-03-21</td>\n",
       "      <td>12:22:00</td>\n",
       "      <td>2023</td>\n",
       "      <td>00:00:08</td>\n",
       "      <td>Ginny &amp; Georgia</td>\n",
       "    </tr>\n",
       "    <tr>\n",
       "      <th>...</th>\n",
       "      <td>...</td>\n",
       "      <td>...</td>\n",
       "      <td>...</td>\n",
       "      <td>...</td>\n",
       "      <td>...</td>\n",
       "      <td>...</td>\n",
       "      <td>...</td>\n",
       "      <td>...</td>\n",
       "      <td>...</td>\n",
       "      <td>...</td>\n",
       "      <td>...</td>\n",
       "      <td>...</td>\n",
       "      <td>...</td>\n",
       "      <td>...</td>\n",
       "    </tr>\n",
       "    <tr>\n",
       "      <th>5385</th>\n",
       "      <td>04-06-2018 23:28</td>\n",
       "      <td>00:03:16</td>\n",
       "      <td>NaN</td>\n",
       "      <td>Tote Mädchen lügen nicht: Staffel 1: Kassette ...</td>\n",
       "      <td>NaN</td>\n",
       "      <td>Netflix Windows App - Cadmium Windows Mobile</td>\n",
       "      <td>00:00:01</td>\n",
       "      <td>Not latest view</td>\n",
       "      <td>DE (Germany)</td>\n",
       "      <td>2018-06-04</td>\n",
       "      <td>23:28:00</td>\n",
       "      <td>2018</td>\n",
       "      <td>00:03:16</td>\n",
       "      <td>Tote Mädchen lügen nicht</td>\n",
       "    </tr>\n",
       "    <tr>\n",
       "      <th>5386</th>\n",
       "      <td>04-06-2018 22:54</td>\n",
       "      <td>00:22:51</td>\n",
       "      <td>NaN</td>\n",
       "      <td>Tote Mädchen lügen nicht: Staffel 2: Das erste...</td>\n",
       "      <td>NaN</td>\n",
       "      <td>Netflix Windows App - Cadmium Windows Mobile</td>\n",
       "      <td>00:56:21</td>\n",
       "      <td>Not latest view</td>\n",
       "      <td>DE (Germany)</td>\n",
       "      <td>2018-06-04</td>\n",
       "      <td>22:54:00</td>\n",
       "      <td>2018</td>\n",
       "      <td>00:22:51</td>\n",
       "      <td>Tote Mädchen lügen nicht</td>\n",
       "    </tr>\n",
       "    <tr>\n",
       "      <th>5387</th>\n",
       "      <td>04-06-2018 17:40</td>\n",
       "      <td>00:33:21</td>\n",
       "      <td>NaN</td>\n",
       "      <td>Tote Mädchen lügen nicht: Staffel 2: Das erste...</td>\n",
       "      <td>NaN</td>\n",
       "      <td>Netflix Windows App - Cadmium Windows Mobile</td>\n",
       "      <td>00:33:34</td>\n",
       "      <td>Not latest view</td>\n",
       "      <td>DE (Germany)</td>\n",
       "      <td>2018-06-04</td>\n",
       "      <td>17:40:00</td>\n",
       "      <td>2018</td>\n",
       "      <td>00:33:21</td>\n",
       "      <td>Tote Mädchen lügen nicht</td>\n",
       "    </tr>\n",
       "    <tr>\n",
       "      <th>5388</th>\n",
       "      <td>04-06-2018 17:39</td>\n",
       "      <td>00:01:31</td>\n",
       "      <td>NaN</td>\n",
       "      <td>Tote Mädchen lügen nicht: Staffel 1: Kassette ...</td>\n",
       "      <td>NaN</td>\n",
       "      <td>Netflix Windows App - Cadmium Windows Mobile</td>\n",
       "      <td>00:01:31</td>\n",
       "      <td>Not latest view</td>\n",
       "      <td>DE (Germany)</td>\n",
       "      <td>2018-06-04</td>\n",
       "      <td>17:39:00</td>\n",
       "      <td>2018</td>\n",
       "      <td>00:01:31</td>\n",
       "      <td>Tote Mädchen lügen nicht</td>\n",
       "    </tr>\n",
       "    <tr>\n",
       "      <th>5389</th>\n",
       "      <td>10-04-2018 13:35</td>\n",
       "      <td>00:08:43</td>\n",
       "      <td>NaN</td>\n",
       "      <td>Jane the Virgin: Staffel 1: Kapitel vier (Folg...</td>\n",
       "      <td>NaN</td>\n",
       "      <td>Firefox PC (Cadmium)</td>\n",
       "      <td>00:09:36</td>\n",
       "      <td>00:09:36</td>\n",
       "      <td>DE (Germany)</td>\n",
       "      <td>2018-04-10</td>\n",
       "      <td>13:35:00</td>\n",
       "      <td>2018</td>\n",
       "      <td>00:08:43</td>\n",
       "      <td>Jane the Virgin</td>\n",
       "    </tr>\n",
       "  </tbody>\n",
       "</table>\n",
       "<p>5390 rows × 14 columns</p>\n",
       "</div>"
      ],
      "text/plain": [
       "            Start Time  Duration Attributes  \\\n",
       "0     29-03-2023 12:00  00:24:06        NaN   \n",
       "1     29-03-2023 11:45  00:14:44        NaN   \n",
       "2     29-03-2023 10:40  00:37:05        NaN   \n",
       "3     21-03-2023 12:23  00:00:01        NaN   \n",
       "4     21-03-2023 12:22  00:00:08        NaN   \n",
       "...                ...       ...        ...   \n",
       "5385  04-06-2018 23:28  00:03:16        NaN   \n",
       "5386  04-06-2018 22:54  00:22:51        NaN   \n",
       "5387  04-06-2018 17:40  00:33:21        NaN   \n",
       "5388  04-06-2018 17:39  00:01:31        NaN   \n",
       "5389  10-04-2018 13:35  00:08:43        NaN   \n",
       "\n",
       "                                                  Title  \\\n",
       "0     The Night Agent: Staffel 1: Wahlwiederholung (...   \n",
       "1       The Night Agent: Staffel 1: Der Anruf (Folge 1)   \n",
       "2       The Night Agent: Staffel 1: Der Anruf (Folge 1)   \n",
       "3     Ginny & Georgia: Staffel 2: Ich bin nicht Cind...   \n",
       "4     Ginny & Georgia: Staffel 2: Horcht! Die Dunkel...   \n",
       "...                                                 ...   \n",
       "5385  Tote Mädchen lügen nicht: Staffel 1: Kassette ...   \n",
       "5386  Tote Mädchen lügen nicht: Staffel 2: Das erste...   \n",
       "5387  Tote Mädchen lügen nicht: Staffel 2: Das erste...   \n",
       "5388  Tote Mädchen lügen nicht: Staffel 1: Kassette ...   \n",
       "5389  Jane the Virgin: Staffel 1: Kapitel vier (Folg...   \n",
       "\n",
       "     Supplemental Video Type                                   Device Type  \\\n",
       "0                        NaN    Apple iPad Pro 12.9in 4th Gen (Wi-Fi) iPad   \n",
       "1                        NaN    Apple iPad Pro 12.9in 4th Gen (Wi-Fi) iPad   \n",
       "2                        NaN    Apple iPad Pro 12.9in 4th Gen (Wi-Fi) iPad   \n",
       "3                        NaN    Apple iPad Pro 12.9in 4th Gen (Wi-Fi) iPad   \n",
       "4                        NaN    Apple iPad Pro 12.9in 4th Gen (Wi-Fi) iPad   \n",
       "...                      ...                                           ...   \n",
       "5385                     NaN  Netflix Windows App - Cadmium Windows Mobile   \n",
       "5386                     NaN  Netflix Windows App - Cadmium Windows Mobile   \n",
       "5387                     NaN  Netflix Windows App - Cadmium Windows Mobile   \n",
       "5388                     NaN  Netflix Windows App - Cadmium Windows Mobile   \n",
       "5389                     NaN                          Firefox PC (Cadmium)   \n",
       "\n",
       "      Bookmark  Latest Bookmark       Country Start Time_date Start Time_time  \\\n",
       "0     00:25:35         00:25:35  DE (Germany)      2023-03-29        12:00:00   \n",
       "1     00:51:50         00:51:50  DE (Germany)      2023-03-29        11:45:00   \n",
       "2     00:37:06  Not latest view  DE (Germany)      2023-03-29        10:40:00   \n",
       "3     01:04:33         01:04:33  DE (Germany)      2023-03-21        12:23:00   \n",
       "4     01:00:29         01:00:29  DE (Germany)      2023-03-21        12:22:00   \n",
       "...        ...              ...           ...             ...             ...   \n",
       "5385  00:00:01  Not latest view  DE (Germany)      2018-06-04        23:28:00   \n",
       "5386  00:56:21  Not latest view  DE (Germany)      2018-06-04        22:54:00   \n",
       "5387  00:33:34  Not latest view  DE (Germany)      2018-06-04        17:40:00   \n",
       "5388  00:01:31  Not latest view  DE (Germany)      2018-06-04        17:39:00   \n",
       "5389  00:09:36         00:09:36  DE (Germany)      2018-04-10        13:35:00   \n",
       "\n",
       "      Start Time_year duration_datetime               movie_names  \n",
       "0                2023          00:24:06           The Night Agent  \n",
       "1                2023          00:14:44           The Night Agent  \n",
       "2                2023          00:37:05           The Night Agent  \n",
       "3                2023          00:00:01           Ginny & Georgia  \n",
       "4                2023          00:00:08           Ginny & Georgia  \n",
       "...               ...               ...                       ...  \n",
       "5385             2018          00:03:16  Tote Mädchen lügen nicht  \n",
       "5386             2018          00:22:51  Tote Mädchen lügen nicht  \n",
       "5387             2018          00:33:21  Tote Mädchen lügen nicht  \n",
       "5388             2018          00:01:31  Tote Mädchen lügen nicht  \n",
       "5389             2018          00:08:43           Jane the Virgin  \n",
       "\n",
       "[5390 rows x 14 columns]"
      ]
     },
     "execution_count": 339,
     "metadata": {},
     "output_type": "execute_result"
    }
   ],
   "source": [
    "df"
   ]
  },
  {
   "cell_type": "code",
   "execution_count": 340,
   "id": "9a1ca1c4",
   "metadata": {},
   "outputs": [
    {
     "data": {
      "text/plain": [
       "The Blacklist              333\n",
       "Naruto                     307\n",
       "Naruto Shippuden           227\n",
       "Vikings                    222\n",
       "Orange Is the New Black    188\n",
       "                          ... \n",
       "Staffel 4 (Teaser)           1\n",
       "Oats Studios                 1\n",
       "Bakemonogatari               1\n",
       "Brooklyn Nine-Nine           1\n",
       "Überredung (Clip)            1\n",
       "Name: movie_names, Length: 466, dtype: int64"
      ]
     },
     "execution_count": 340,
     "metadata": {},
     "output_type": "execute_result"
    }
   ],
   "source": [
    "movie_names_unique.sort_values(ascending=False)"
   ]
  },
  {
   "cell_type": "code",
   "execution_count": 341,
   "id": "bcab9b6a",
   "metadata": {},
   "outputs": [],
   "source": []
  },
  {
   "cell_type": "code",
   "execution_count": 360,
   "id": "ef44d1f4",
   "metadata": {},
   "outputs": [],
   "source": [
    "blacklist_data = df.loc[df['movie_names']=='The Blacklist']\n",
    "naruto_data = df.loc[df['movie_names']=='Naruto']\n",
    "Naruto_Shippuden_data = df.loc[df['movie_names']=='Naruto Shippuden']\n",
    "vikings_data = df.loc[df['movie_names']=='Vikings']\n",
    "OITTNB_data = df.loc[df['movie_names']=='Orange Is the New Black']"
   ]
  },
  {
   "cell_type": "code",
   "execution_count": 355,
   "id": "f211a79f",
   "metadata": {},
   "outputs": [],
   "source": [
    "blacklist_data"
   ]
  },
  {
   "cell_type": "code",
   "execution_count": 356,
   "id": "525c26b8",
   "metadata": {},
   "outputs": [],
   "source": [
    "def convert_2_time(date_string):\n",
    "    from datetime import datetime\n",
    "    \n",
    "    # Convert string to datetime object\n",
    "    date_time_obj = datetime.strptime(date_string, '%H:%M:%S').time()\n",
    "    \n",
    "    return date_time_obj"
   ]
  },
  {
   "cell_type": "code",
   "execution_count": 363,
   "id": "600caa49",
   "metadata": {},
   "outputs": [],
   "source": [
    "def total_mins_duration(duration_datetime):\n",
    "    total_seconds_series = duration_datetime.apply(lambda x: x.hour * 3600 + x.minute * 60 + x.second)\n",
    "    total_seconds = total_seconds_series.sum()\n",
    "    total_minutes = total_seconds/60\n",
    "    return total_minutes"
   ]
  },
  {
   "cell_type": "code",
   "execution_count": 373,
   "id": "be2fe815",
   "metadata": {},
   "outputs": [],
   "source": [
    "#Finding the duration in date time object to split the date and time for the top shows\n",
    "duration_datetime_blacklist = df.loc[df['movie_names']=='The Blacklist', 'duration_datetime']\n",
    "duration_datetime_startdate_blacklist = df.loc[df['movie_names']=='The Blacklist','Start Time_date']\n",
    "\n",
    "duration_datetime_Naruto = df.loc[df['movie_names']=='Naruto', 'duration_datetime']\n",
    "duration_datetime_startdate_Naruto = df.loc[df['movie_names']=='Naruto','Start Time_date']\n",
    "\n",
    "duration_datetime_Naruto_Shippuden = df.loc[df['movie_names']=='Naruto Shippuden', 'duration_datetime']\n",
    "duration_datetime_startdate_Naruto_Shippuden = df.loc[df['movie_names']=='Naruto Shippuden','Start Time_date']\n",
    "\n",
    "duration_datetime_Vikings = df.loc[df['movie_names']=='Vikings', 'duration_datetime']\n",
    "duration_datetime_startdate_Vikings = df.loc[df['movie_names']=='Vikings','Start Time_date']\n",
    "\n",
    "duration_datetime_OB = df.loc[df['movie_names']=='Orange Is the New Black', 'duration_datetime']\n",
    "duration_datetime_startdate_OB = df.loc[df['movie_names']=='Orange Is the New Black','Start Time_date']"
   ]
  },
  {
   "cell_type": "code",
   "execution_count": 374,
   "id": "d507bf7f",
   "metadata": {},
   "outputs": [],
   "source": [
    "blacklist_duration=blacklist_data['duration_datetime']"
   ]
  },
  {
   "cell_type": "code",
   "execution_count": 383,
   "id": "925aef15",
   "metadata": {},
   "outputs": [],
   "source": [
    "blacklist_total_mins = total_mins_duration(duration_datetime_blacklist)\n",
    "Naruto_total_mins = total_mins_duration(duration_datetime_Naruto)\n",
    "Naruto_Shippuden_total_mins = total_mins_duration(duration_datetime_Naruto_Shippuden)\n",
    "Vikings_total_mins = total_mins_duration(duration_datetime_Vikings)\n",
    "OB_total_mins = total_mins_duration(duration_datetime_OB)\n",
    "\n",
    "top_5_most_logged_in = ['The Blacklist','Naruto', 'Naruto Shippuden', 'Vikings','Orange Is the New Black']\n",
    "top_5_total_time = [round(blacklist_total_mins,2), round(Naruto_total_mins,2), round(Naruto_Shippuden_total_mins,2), round(Vikings_total_mins,2), round(OB_total_mins,2) ]"
   ]
  },
  {
   "cell_type": "code",
   "execution_count": 389,
   "id": "430b1e76",
   "metadata": {},
   "outputs": [
    {
     "name": "stdout",
     "output_type": "stream",
     "text": [
      "Rectangle(xy=(-0.4, 0), width=0.8, height=8103.9, angle=0)\n",
      "Rectangle(xy=(0.6, 0), width=0.8, height=4733.38, angle=0)\n",
      "Rectangle(xy=(1.6, 0), width=0.8, height=3577.95, angle=0)\n",
      "Rectangle(xy=(2.6, 0), width=0.8, height=4393.78, angle=0)\n",
      "Rectangle(xy=(3.6, 0), width=0.8, height=5264.32, angle=0)\n"
     ]
    },
    {
     "data": {
      "text/plain": [
       "Text(0.5, 1.0, 'top_5_most_logged_in')"
      ]
     },
     "execution_count": 389,
     "metadata": {},
     "output_type": "execute_result"
    },
    {
     "data": {
      "image/png": "[encoded data removed]",
      "text/plain": [
       "<Figure size 1000x600 with 1 Axes>"
      ]
     },
     "metadata": {},
     "output_type": "display_data"
    }
   ],
   "source": [
    "plt.figure(figsize=(10,6))\n",
    "\n",
    "bars = plt.bar(top_5_most_logged_in,top_5_total_time)\n",
    "bars[0].set_color('black')\n",
    "bars[1].set_color('yellow')\n",
    "bars[2].set_color('red')\n",
    "bars[3].set_color('grey')\n",
    "bars[4].set_color('orange')\n",
    "\n",
    "# Adding counts on top of bars\n",
    "for bar in bars:\n",
    "    height = bar.get_height()\n",
    "    print(bar)\n",
    "    plt.text(bar.get_x() + bar.get_width()/2, height, str(height), \n",
    "             ha='center', va='bottom', color='black')\n",
    "plt.xlabel('top_5_most_logged_TV_Shows')\n",
    "plt.ylabel('top_5_total_time_in_mins')\n",
    "plt.title('top_5_most_logged_in')"
   ]
  },
  {
   "cell_type": "code",
   "execution_count": null,
   "id": "5e37492a",
   "metadata": {},
   "outputs": [],
   "source": []
  },
  {
   "cell_type": "code",
   "execution_count": null,
   "id": "06215964",
   "metadata": {},
   "outputs": [],
   "source": []
  },
  {
   "cell_type": "code",
   "execution_count": null,
   "id": "ccd93aa1",
   "metadata": {},
   "outputs": [],
   "source": []
  },
  {
   "cell_type": "code",
   "execution_count": 369,
   "id": "a742917a",
   "metadata": {},
   "outputs": [],
   "source": [
    "yr = df['Start Time_year'].unique()"
   ]
  },
  {
   "cell_type": "code",
   "execution_count": 246,
   "id": "93c00f5f",
   "metadata": {},
   "outputs": [],
   "source": [
    "year = yr.tolist()"
   ]
  },
  {
   "cell_type": "code",
   "execution_count": 255,
   "id": "a9d5234b",
   "metadata": {},
   "outputs": [],
   "source": [
    "year.sort()"
   ]
  },
  {
   "cell_type": "code",
   "execution_count": 258,
   "id": "bd2394bc",
   "metadata": {},
   "outputs": [
    {
     "data": {
      "text/plain": [
       "[2018, 2019, 2020, 2021, 2022, 2023]"
      ]
     },
     "execution_count": 258,
     "metadata": {},
     "output_type": "execute_result"
    }
   ],
   "source": [
    "year"
   ]
  },
  {
   "cell_type": "code",
   "execution_count": null,
   "id": "de6cdbb9",
   "metadata": {},
   "outputs": [],
   "source": []
  }
 ],
 "metadata": {
  "kernelspec": {
   "display_name": "Python 3 (ipykernel)",
   "language": "python",
   "name": "python3"
  },
  "language_info": {
   "codemirror_mode": {
    "name": "ipython",
    "version": 3
   },
   "file_extension": ".py",
   "mimetype": "text/x-python",
   "name": "python",
   "nbconvert_exporter": "python",
   "pygments_lexer": "ipython3",
   "version": "3.9.13"
  }
 },
 "nbformat": 4,
 "nbformat_minor": 5
}
